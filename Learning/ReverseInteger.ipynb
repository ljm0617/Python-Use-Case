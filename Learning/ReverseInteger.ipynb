Given a signed 32-bit integer x, return x with its digits reversed. If reversing x causes the value to go outside the signed 32-bit integer range [-231, 231 - 1], then return 0.

Assume the environment does not allow you to store 64-bit integers (signed or unsigned).

def reverse_num(x):

    if x < -2**31 or x > 2**31-1:
        
        return 0

    else:
        if isinstance(x,int):
        
            rev_x = str(x)
        
            if x < 0:
                y = int(rev_x[:0:-1])
                return -y
            
            else:
                y = int(rev_x[::-1])
                return y



reverse_num(0)