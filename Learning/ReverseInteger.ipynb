{
 "cells": [
  {
   "cell_type": "code",
   "execution_count": 5,
   "id": "4969ee08",
   "metadata": {},
   "outputs": [
    {
     "data": {
      "text/plain": [
       "-321"
      ]
     },
     "execution_count": 5,
     "metadata": {},
     "output_type": "execute_result"
    }
   ],
   "source": [
    "'''Given a signed 32-bit integer x, return x with its digits reversed. If reversing x causes the value to go outside the signed 32-bit integer range [-231, 231 - 1], then return 0.\n",
    "Assume the environment does not allow you to store 64-bit integers (signed or unsigned).'''\n",
    "\n",
    "class Solution:\n",
    "    def reverse(self, x: int) -> int:\n",
    "        \n",
    "\n",
    "        if isinstance(x,int):\n",
    "            rev_x = str(x)\n",
    "        \n",
    "            if x < 0:\n",
    "                y = int(rev_x[:0:-1])\n",
    "                if -y < -2**31 or -y > 2**31-1:\n",
    "                    return 0\n",
    "                    \n",
    "                else:\n",
    "                    return -y\n",
    "            \n",
    "            else:\n",
    "                y = int(rev_x[::-1])\n",
    "                if y < -2**31 or y > 2**31-1:\n",
    "                    return 0                    \n",
    "                \n",
    "                else:\n",
    "                    return y\n",
    "                \n",
    "X = Solution()\n",
    "X.reverse(-1230)"
   ]
  },
  {
   "cell_type": "code",
   "execution_count": null,
   "id": "8b2eec9d",
   "metadata": {},
   "outputs": [],
   "source": []
  },
  {
   "cell_type": "code",
   "execution_count": null,
   "id": "1472db27",
   "metadata": {},
   "outputs": [],
   "source": []
  }
 ],
 "metadata": {
  "kernelspec": {
   "display_name": "Python 3",
   "language": "python",
   "name": "python3"
  },
  "language_info": {
   "codemirror_mode": {
    "name": "ipython",
    "version": 3
   },
   "file_extension": ".py",
   "mimetype": "text/x-python",
   "name": "python",
   "nbconvert_exporter": "python",
   "pygments_lexer": "ipython3",
   "version": "3.8.8"
  }
 },
 "nbformat": 4,
 "nbformat_minor": 5
}
