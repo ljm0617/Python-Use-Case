{
 "cells": [
  {
   "cell_type": "code",
   "execution_count": null,
   "id": "c41ea462",
   "metadata": {},
   "outputs": [],
   "source": [
    "'''Roman numerals are represented by seven different symbols: I, V, X, L, C, D and M.'''\n",
    "\n",
    "class Solution:\n",
    "    def intToRoman(self, num: int) -> str:\n",
    "        d={\n",
    "            1000:'M',\n",
    "            900:'CM',\n",
    "            500:'D',\n",
    "            400:'CD',\n",
    "            100:'C',\n",
    "            90:'XC',\n",
    "            50:'L',\n",
    "            40:'XL',\n",
    "            10:'X',\n",
    "            9:'IX',\n",
    "            5:'V',\n",
    "            4:'IV',\n",
    "            1:'I'\n",
    "        }\n",
    "        s=\"\"\n",
    "\n",
    "        for i in d.keys():\n",
    " \n",
    "            if num == 0:\n",
    "                break\n",
    "            elif num < i:\n",
    "                continue\n",
    "            else:\n",
    "                a,b = divmod(num,i)\n",
    "                s+=d[i]*a\n",
    "                num = b\n",
    "        return s"
   ]
  }
 ],
 "metadata": {
  "kernelspec": {
   "display_name": "Python 3",
   "language": "python",
   "name": "python3"
  },
  "language_info": {
   "codemirror_mode": {
    "name": "ipython",
    "version": 3
   },
   "file_extension": ".py",
   "mimetype": "text/x-python",
   "name": "python",
   "nbconvert_exporter": "python",
   "pygments_lexer": "ipython3",
   "version": "3.8.8"
  }
 },
 "nbformat": 4,
 "nbformat_minor": 5
}
